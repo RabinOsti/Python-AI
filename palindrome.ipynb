{
 "cells": [
  {
   "cell_type": "code",
   "execution_count": null,
   "id": "ebb8cde9",
   "metadata": {},
   "outputs": [],
   "source": [
    "# Write a program to check palindrome."
   ]
  },
  {
   "cell_type": "code",
   "execution_count": null,
   "id": "7f203120",
   "metadata": {},
   "outputs": [],
   "source": [
    "# Number is palindrome or not"
   ]
  },
  {
   "cell_type": "code",
   "execution_count": 3,
   "id": "9a838763",
   "metadata": {},
   "outputs": [
    {
     "name": "stdout",
     "output_type": "stream",
     "text": [
      "Enter a number: 1221\n"
     ]
    }
   ],
   "source": [
    "temp=num = int(input(\"Enter a number: \"))"
   ]
  },
  {
   "cell_type": "code",
   "execution_count": 4,
   "id": "94ab7ce2",
   "metadata": {},
   "outputs": [],
   "source": [
    "ans = 0"
   ]
  },
  {
   "cell_type": "code",
   "execution_count": 5,
   "id": "f722d462",
   "metadata": {},
   "outputs": [],
   "source": [
    "while(temp):\n",
    "    rem = temp%10\n",
    "    ans = rem+ans*10\n",
    "    temp = temp//10\n"
   ]
  },
  {
   "cell_type": "code",
   "execution_count": 6,
   "id": "88cc941a",
   "metadata": {},
   "outputs": [
    {
     "name": "stdout",
     "output_type": "stream",
     "text": [
      "1221 is palindrome.\n"
     ]
    }
   ],
   "source": [
    "if(ans==num):\n",
    "    print(f'{num} is palindrome.')\n",
    "else:\n",
    "    print(f'{num} is not palindrome.')"
   ]
  },
  {
   "cell_type": "code",
   "execution_count": null,
   "id": "a3d4cc8b",
   "metadata": {},
   "outputs": [],
   "source": []
  },
  {
   "cell_type": "code",
   "execution_count": null,
   "id": "91d1ceb5",
   "metadata": {},
   "outputs": [],
   "source": [
    "# String is Palindrome or Not "
   ]
  },
  {
   "cell_type": "code",
   "execution_count": 15,
   "id": "1ec001c5",
   "metadata": {},
   "outputs": [
    {
     "name": "stdout",
     "output_type": "stream",
     "text": [
      "Enter a string: abcba\n"
     ]
    }
   ],
   "source": [
    "str=input(\"Enter a string: \")"
   ]
  },
  {
   "cell_type": "code",
   "execution_count": 16,
   "id": "91e990e3",
   "metadata": {},
   "outputs": [
    {
     "name": "stdout",
     "output_type": "stream",
     "text": [
      "abcba is palindrome.\n"
     ]
    }
   ],
   "source": [
    "if(str[::-1]==str):\n",
    "    print(f'{str} is palindrome.')\n",
    "else:\n",
    "    print(f'{str} is not palindrome.')"
   ]
  }
 ],
 "metadata": {
  "kernelspec": {
   "display_name": "Python 3 (ipykernel)",
   "language": "python",
   "name": "python3"
  },
  "language_info": {
   "codemirror_mode": {
    "name": "ipython",
    "version": 3
   },
   "file_extension": ".py",
   "mimetype": "text/x-python",
   "name": "python",
   "nbconvert_exporter": "python",
   "pygments_lexer": "ipython3",
   "version": "3.11.5"
  }
 },
 "nbformat": 4,
 "nbformat_minor": 5
}
