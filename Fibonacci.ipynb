{
 "cells": [
  {
   "cell_type": "code",
   "execution_count": 5,
   "id": "8899b178",
   "metadata": {},
   "outputs": [],
   "source": [
    "def fibo(num):\n",
    "    \n",
    "    if(num<=0):\n",
    "        print(\"Invalid input. Number must be greater than 0\")\n",
    "        return\n",
    "    fibo_sequence = [0,1]\n",
    "    \n",
    "    for i in range(num):\n",
    "        if(i<2):\n",
    "            print(fibo_sequence[i],end='\\t')\n",
    "        else:\n",
    "            next_term = fibo_sequence[i-1] + fibo_sequence[i-2]\n",
    "            fibo_sequence.append(next_term)\n",
    "            print(fibo_sequence[i],end='\\t')"
   ]
  },
  {
   "cell_type": "code",
   "execution_count": 6,
   "id": "7a35d03c",
   "metadata": {},
   "outputs": [
    {
     "name": "stdout",
     "output_type": "stream",
     "text": [
      "How many fibonacci sequence do you want to generate: 10\n"
     ]
    }
   ],
   "source": [
    "number = int(input(\"How many fibonacci sequence do you want to generate: \"))"
   ]
  },
  {
   "cell_type": "code",
   "execution_count": 7,
   "id": "29163ccf",
   "metadata": {},
   "outputs": [
    {
     "name": "stdout",
     "output_type": "stream",
     "text": [
      "0\t1\t1\t2\t3\t5\t8\t13\t21\t34\t"
     ]
    }
   ],
   "source": [
    "fibo(number)"
   ]
  }
 ],
 "metadata": {
  "kernelspec": {
   "display_name": "Python 3 (ipykernel)",
   "language": "python",
   "name": "python3"
  },
  "language_info": {
   "codemirror_mode": {
    "name": "ipython",
    "version": 3
   },
   "file_extension": ".py",
   "mimetype": "text/x-python",
   "name": "python",
   "nbconvert_exporter": "python",
   "pygments_lexer": "ipython3",
   "version": "3.11.5"
  }
 },
 "nbformat": 4,
 "nbformat_minor": 5
}
