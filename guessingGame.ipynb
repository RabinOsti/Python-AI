{
 "cells": [
  {
   "cell_type": "code",
   "execution_count": 16,
   "id": "2312c447",
   "metadata": {},
   "outputs": [],
   "source": [
    "# Create a number guessing game. Where you have to generate a random number in between 1 to 100 and \n",
    "# user have to prompt a number for guess. \n",
    "# if its high or low number let the user know and guide them through the process to guess correct number."
   ]
  },
  {
   "cell_type": "code",
   "execution_count": 17,
   "id": "01a788c2",
   "metadata": {},
   "outputs": [],
   "source": [
    "import random"
   ]
  },
  {
   "cell_type": "code",
   "execution_count": 18,
   "id": "72c55d20",
   "metadata": {},
   "outputs": [
    {
     "name": "stdout",
     "output_type": "stream",
     "text": [
      "16\n"
     ]
    }
   ],
   "source": [
    "random_num = random.randint(1,100)\n",
    "print(random_num) # printing it to make the guess right"
   ]
  },
  {
   "cell_type": "code",
   "execution_count": 19,
   "id": "ce2d3ce8",
   "metadata": {},
   "outputs": [],
   "source": [
    "continue_playing = 'y'"
   ]
  },
  {
   "cell_type": "code",
   "execution_count": 20,
   "id": "beb23f99",
   "metadata": {},
   "outputs": [
    {
     "name": "stdout",
     "output_type": "stream",
     "text": [
      "Guess number between 1 to 100: 80\n",
      "Very high!\n",
      "Enter 'y' to continue playing: y\n",
      "Guess number between 1 to 100: 40\n",
      "Very high!\n",
      "Enter 'y' to continue playing: y\n",
      "Guess number between 1 to 100: 32\n",
      "You are close!\n",
      "Enter 'y' to continue playing: y\n",
      "Guess number between 1 to 100: 10\n",
      "You are very close!\n",
      "Enter 'y' to continue playing: y\n",
      "Guess number between 1 to 100: 22\n",
      "You are very close!\n",
      "Enter 'y' to continue playing: Y\n",
      "Guess number between 1 to 100: 16\n",
      "Congratulations! You guessed the correct number i.e 16.\n"
     ]
    }
   ],
   "source": [
    "while continue_playing.lower() == 'y':\n",
    "    guess = int(input(\"Guess number between 1 to 100: \"))\n",
    "    \n",
    "    if guess == random_num:\n",
    "        print(f\"Congratulations! You guessed the correct number i.e {random_num}.\")\n",
    "        break\n",
    "    \n",
    "    elif abs(random_num - guess) <= 10:\n",
    "        print(\"You are very close!\")\n",
    "        \n",
    "    elif abs(random_num - guess) <= 20:\n",
    "        print(\"You are close!\")\n",
    "        \n",
    "    else:\n",
    "        print(\"Very high!\")\n",
    "    \n",
    "    continue_playing = input(\"Enter 'y' to continue playing: \")\n"
   ]
  }
 ],
 "metadata": {
  "kernelspec": {
   "display_name": "Python 3 (ipykernel)",
   "language": "python",
   "name": "python3"
  },
  "language_info": {
   "codemirror_mode": {
    "name": "ipython",
    "version": 3
   },
   "file_extension": ".py",
   "mimetype": "text/x-python",
   "name": "python",
   "nbconvert_exporter": "python",
   "pygments_lexer": "ipython3",
   "version": "3.11.5"
  }
 },
 "nbformat": 4,
 "nbformat_minor": 5
}
