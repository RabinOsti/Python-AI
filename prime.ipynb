{
 "cells": [
  {
   "cell_type": "code",
   "execution_count": null,
   "id": "97eeb1ec",
   "metadata": {},
   "outputs": [],
   "source": [
    "# Write a program to find prime number with in a range using function."
   ]
  },
  {
   "cell_type": "code",
   "execution_count": 21,
   "id": "668c1104",
   "metadata": {},
   "outputs": [
    {
     "name": "stdout",
     "output_type": "stream",
     "text": [
      "Enter lower number: 1\n",
      "Enter higher number: 20\n"
     ]
    }
   ],
   "source": [
    "lower = int(input(\"Enter lower number: \"))\n",
    "higher = int(input(\"Enter higher number: \"))"
   ]
  },
  {
   "cell_type": "code",
   "execution_count": 22,
   "id": "66877797",
   "metadata": {},
   "outputs": [],
   "source": [
    "def is_prime(num):\n",
    "    if(num==1 or num==0):\n",
    "        return False\n",
    "    for j in range(2,num):\n",
    "        if(num%j==0):\n",
    "            return False\n",
    "    return True\n",
    "    "
   ]
  },
  {
   "cell_type": "code",
   "execution_count": 23,
   "id": "78b7817c",
   "metadata": {},
   "outputs": [
    {
     "name": "stdout",
     "output_type": "stream",
     "text": [
      "Prime number between 1 and 20 are\n",
      "\n",
      "2\t3\t5\t7\t11\t13\t17\t19\t"
     ]
    }
   ],
   "source": [
    "print(f'Prime number between {lower} and {higher} are\\n')\n",
    "for i in range(lower,higher+1):\n",
    "    result = is_prime(i)\n",
    "    if(result):\n",
    "        print(i,end=\"\\t\")"
   ]
  }
 ],
 "metadata": {
  "kernelspec": {
   "display_name": "Python 3 (ipykernel)",
   "language": "python",
   "name": "python3"
  },
  "language_info": {
   "codemirror_mode": {
    "name": "ipython",
    "version": 3
   },
   "file_extension": ".py",
   "mimetype": "text/x-python",
   "name": "python",
   "nbconvert_exporter": "python",
   "pygments_lexer": "ipython3",
   "version": "3.11.5"
  }
 },
 "nbformat": 4,
 "nbformat_minor": 5
}
